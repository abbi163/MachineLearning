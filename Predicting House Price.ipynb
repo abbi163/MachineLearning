{
    "nbformat_minor": 1, 
    "cells": [
        {
            "source": "# Case Study : Predicting House Price using Regression Models.\n", 
            "cell_type": "markdown", 
            "metadata": {}
        }, 
        {
            "execution_count": 2, 
            "cell_type": "code", 
            "metadata": {}, 
            "outputs": [
                {
                    "execution_count": 2, 
                    "metadata": {}, 
                    "data": {
                        "text/html": "<div>\n<style scoped>\n    .dataframe tbody tr th:only-of-type {\n        vertical-align: middle;\n    }\n\n    .dataframe tbody tr th {\n        vertical-align: top;\n    }\n\n    .dataframe thead th {\n        text-align: right;\n    }\n</style>\n<table border=\"1\" class=\"dataframe\">\n  <thead>\n    <tr style=\"text-align: right;\">\n      <th></th>\n      <th>id</th>\n      <th>date</th>\n      <th>price</th>\n      <th>bedrooms</th>\n      <th>bathrooms</th>\n      <th>sqft_living</th>\n      <th>sqft_lot</th>\n      <th>floors</th>\n      <th>waterfront</th>\n      <th>view</th>\n      <th>...</th>\n      <th>grade</th>\n      <th>sqft_above</th>\n      <th>sqft_basement</th>\n      <th>yr_built</th>\n      <th>yr_renovated</th>\n      <th>zipcode</th>\n      <th>lat</th>\n      <th>long</th>\n      <th>sqft_living15</th>\n      <th>sqft_lot15</th>\n    </tr>\n  </thead>\n  <tbody>\n    <tr>\n      <th>0</th>\n      <td>7129300520</td>\n      <td>20141013T000000</td>\n      <td>221900.0</td>\n      <td>3</td>\n      <td>1.00</td>\n      <td>1180</td>\n      <td>5650</td>\n      <td>1.0</td>\n      <td>0</td>\n      <td>0</td>\n      <td>...</td>\n      <td>7</td>\n      <td>1180</td>\n      <td>0</td>\n      <td>1955</td>\n      <td>0</td>\n      <td>98178</td>\n      <td>47.5112</td>\n      <td>-122.257</td>\n      <td>1340</td>\n      <td>5650</td>\n    </tr>\n    <tr>\n      <th>1</th>\n      <td>6414100192</td>\n      <td>20141209T000000</td>\n      <td>538000.0</td>\n      <td>3</td>\n      <td>2.25</td>\n      <td>2570</td>\n      <td>7242</td>\n      <td>2.0</td>\n      <td>0</td>\n      <td>0</td>\n      <td>...</td>\n      <td>7</td>\n      <td>2170</td>\n      <td>400</td>\n      <td>1951</td>\n      <td>1991</td>\n      <td>98125</td>\n      <td>47.7210</td>\n      <td>-122.319</td>\n      <td>1690</td>\n      <td>7639</td>\n    </tr>\n    <tr>\n      <th>2</th>\n      <td>5631500400</td>\n      <td>20150225T000000</td>\n      <td>180000.0</td>\n      <td>2</td>\n      <td>1.00</td>\n      <td>770</td>\n      <td>10000</td>\n      <td>1.0</td>\n      <td>0</td>\n      <td>0</td>\n      <td>...</td>\n      <td>6</td>\n      <td>770</td>\n      <td>0</td>\n      <td>1933</td>\n      <td>0</td>\n      <td>98028</td>\n      <td>47.7379</td>\n      <td>-122.233</td>\n      <td>2720</td>\n      <td>8062</td>\n    </tr>\n    <tr>\n      <th>3</th>\n      <td>2487200875</td>\n      <td>20141209T000000</td>\n      <td>604000.0</td>\n      <td>4</td>\n      <td>3.00</td>\n      <td>1960</td>\n      <td>5000</td>\n      <td>1.0</td>\n      <td>0</td>\n      <td>0</td>\n      <td>...</td>\n      <td>7</td>\n      <td>1050</td>\n      <td>910</td>\n      <td>1965</td>\n      <td>0</td>\n      <td>98136</td>\n      <td>47.5208</td>\n      <td>-122.393</td>\n      <td>1360</td>\n      <td>5000</td>\n    </tr>\n    <tr>\n      <th>4</th>\n      <td>1954400510</td>\n      <td>20150218T000000</td>\n      <td>510000.0</td>\n      <td>3</td>\n      <td>2.00</td>\n      <td>1680</td>\n      <td>8080</td>\n      <td>1.0</td>\n      <td>0</td>\n      <td>0</td>\n      <td>...</td>\n      <td>8</td>\n      <td>1680</td>\n      <td>0</td>\n      <td>1987</td>\n      <td>0</td>\n      <td>98074</td>\n      <td>47.6168</td>\n      <td>-122.045</td>\n      <td>1800</td>\n      <td>7503</td>\n    </tr>\n  </tbody>\n</table>\n<p>5 rows \u00d7 21 columns</p>\n</div>", 
                        "text/plain": "           id             date     price  bedrooms  bathrooms  sqft_living  \\\n0  7129300520  20141013T000000  221900.0         3       1.00         1180   \n1  6414100192  20141209T000000  538000.0         3       2.25         2570   \n2  5631500400  20150225T000000  180000.0         2       1.00          770   \n3  2487200875  20141209T000000  604000.0         4       3.00         1960   \n4  1954400510  20150218T000000  510000.0         3       2.00         1680   \n\n   sqft_lot  floors  waterfront  view     ...      grade  sqft_above  \\\n0      5650     1.0           0     0     ...          7        1180   \n1      7242     2.0           0     0     ...          7        2170   \n2     10000     1.0           0     0     ...          6         770   \n3      5000     1.0           0     0     ...          7        1050   \n4      8080     1.0           0     0     ...          8        1680   \n\n   sqft_basement  yr_built  yr_renovated  zipcode      lat     long  \\\n0              0      1955             0    98178  47.5112 -122.257   \n1            400      1951          1991    98125  47.7210 -122.319   \n2              0      1933             0    98028  47.7379 -122.233   \n3            910      1965             0    98136  47.5208 -122.393   \n4              0      1987             0    98074  47.6168 -122.045   \n\n   sqft_living15  sqft_lot15  \n0           1340        5650  \n1           1690        7639  \n2           2720        8062  \n3           1360        5000  \n4           1800        7503  \n\n[5 rows x 21 columns]"
                    }, 
                    "output_type": "execute_result"
                }
            ], 
            "source": "# The code was removed by Watson Studio for sharing."
        }, 
        {
            "execution_count": 3, 
            "cell_type": "code", 
            "metadata": {}, 
            "outputs": [
                {
                    "output_type": "stream", 
                    "name": "stdout", 
                    "text": "<class 'pandas.core.frame.DataFrame'>\nRangeIndex: 21613 entries, 0 to 21612\nData columns (total 21 columns):\nid               21613 non-null int64\ndate             21613 non-null object\nprice            21613 non-null float64\nbedrooms         21613 non-null int64\nbathrooms        21613 non-null float64\nsqft_living      21613 non-null int64\nsqft_lot         21613 non-null int64\nfloors           21613 non-null float64\nwaterfront       21613 non-null int64\nview             21613 non-null int64\ncondition        21613 non-null int64\ngrade            21613 non-null int64\nsqft_above       21613 non-null int64\nsqft_basement    21613 non-null int64\nyr_built         21613 non-null int64\nyr_renovated     21613 non-null int64\nzipcode          21613 non-null int64\nlat              21613 non-null float64\nlong             21613 non-null float64\nsqft_living15    21613 non-null int64\nsqft_lot15       21613 non-null int64\ndtypes: float64(5), int64(15), object(1)\nmemory usage: 3.5+ MB\n"
                }
            ], 
            "source": "df_house.info()"
        }, 
        {
            "source": "#### For linear Regression we will consider the sqft_lot15 which implies total area of the lot  in square feet and price.", 
            "cell_type": "markdown", 
            "metadata": {}
        }, 
        {
            "source": "### Taking train dataframe !", 
            "cell_type": "markdown", 
            "metadata": {}
        }, 
        {
            "execution_count": 4, 
            "cell_type": "code", 
            "metadata": {}, 
            "outputs": [
                {
                    "execution_count": 4, 
                    "metadata": {}, 
                    "data": {
                        "text/html": "<div>\n<style scoped>\n    .dataframe tbody tr th:only-of-type {\n        vertical-align: middle;\n    }\n\n    .dataframe tbody tr th {\n        vertical-align: top;\n    }\n\n    .dataframe thead th {\n        text-align: right;\n    }\n</style>\n<table border=\"1\" class=\"dataframe\">\n  <thead>\n    <tr style=\"text-align: right;\">\n      <th></th>\n      <th>id</th>\n      <th>date</th>\n      <th>price</th>\n      <th>bedrooms</th>\n      <th>bathrooms</th>\n      <th>sqft_living</th>\n      <th>sqft_lot</th>\n      <th>floors</th>\n      <th>waterfront</th>\n      <th>view</th>\n      <th>...</th>\n      <th>grade</th>\n      <th>sqft_above</th>\n      <th>sqft_basement</th>\n      <th>yr_built</th>\n      <th>yr_renovated</th>\n      <th>zipcode</th>\n      <th>lat</th>\n      <th>long</th>\n      <th>sqft_living15</th>\n      <th>sqft_lot15</th>\n    </tr>\n  </thead>\n  <tbody>\n    <tr>\n      <th>0</th>\n      <td>7129300520</td>\n      <td>20141013T000000</td>\n      <td>221900.0</td>\n      <td>3</td>\n      <td>1.00</td>\n      <td>1180</td>\n      <td>5650</td>\n      <td>1.0</td>\n      <td>0</td>\n      <td>0</td>\n      <td>...</td>\n      <td>7</td>\n      <td>1180</td>\n      <td>0</td>\n      <td>1955</td>\n      <td>0</td>\n      <td>98178</td>\n      <td>47.5112</td>\n      <td>-122.257</td>\n      <td>1340</td>\n      <td>5650</td>\n    </tr>\n    <tr>\n      <th>1</th>\n      <td>6414100192</td>\n      <td>20141209T000000</td>\n      <td>538000.0</td>\n      <td>3</td>\n      <td>2.25</td>\n      <td>2570</td>\n      <td>7242</td>\n      <td>2.0</td>\n      <td>0</td>\n      <td>0</td>\n      <td>...</td>\n      <td>7</td>\n      <td>2170</td>\n      <td>400</td>\n      <td>1951</td>\n      <td>1991</td>\n      <td>98125</td>\n      <td>47.7210</td>\n      <td>-122.319</td>\n      <td>1690</td>\n      <td>7639</td>\n    </tr>\n    <tr>\n      <th>2</th>\n      <td>5631500400</td>\n      <td>20150225T000000</td>\n      <td>180000.0</td>\n      <td>2</td>\n      <td>1.00</td>\n      <td>770</td>\n      <td>10000</td>\n      <td>1.0</td>\n      <td>0</td>\n      <td>0</td>\n      <td>...</td>\n      <td>6</td>\n      <td>770</td>\n      <td>0</td>\n      <td>1933</td>\n      <td>0</td>\n      <td>98028</td>\n      <td>47.7379</td>\n      <td>-122.233</td>\n      <td>2720</td>\n      <td>8062</td>\n    </tr>\n    <tr>\n      <th>3</th>\n      <td>2487200875</td>\n      <td>20141209T000000</td>\n      <td>604000.0</td>\n      <td>4</td>\n      <td>3.00</td>\n      <td>1960</td>\n      <td>5000</td>\n      <td>1.0</td>\n      <td>0</td>\n      <td>0</td>\n      <td>...</td>\n      <td>7</td>\n      <td>1050</td>\n      <td>910</td>\n      <td>1965</td>\n      <td>0</td>\n      <td>98136</td>\n      <td>47.5208</td>\n      <td>-122.393</td>\n      <td>1360</td>\n      <td>5000</td>\n    </tr>\n    <tr>\n      <th>4</th>\n      <td>1954400510</td>\n      <td>20150218T000000</td>\n      <td>510000.0</td>\n      <td>3</td>\n      <td>2.00</td>\n      <td>1680</td>\n      <td>8080</td>\n      <td>1.0</td>\n      <td>0</td>\n      <td>0</td>\n      <td>...</td>\n      <td>8</td>\n      <td>1680</td>\n      <td>0</td>\n      <td>1987</td>\n      <td>0</td>\n      <td>98074</td>\n      <td>47.6168</td>\n      <td>-122.045</td>\n      <td>1800</td>\n      <td>7503</td>\n    </tr>\n  </tbody>\n</table>\n<p>5 rows \u00d7 21 columns</p>\n</div>", 
                        "text/plain": "           id             date     price  bedrooms  bathrooms  sqft_living  \\\n0  7129300520  20141013T000000  221900.0         3       1.00         1180   \n1  6414100192  20141209T000000  538000.0         3       2.25         2570   \n2  5631500400  20150225T000000  180000.0         2       1.00          770   \n3  2487200875  20141209T000000  604000.0         4       3.00         1960   \n4  1954400510  20150218T000000  510000.0         3       2.00         1680   \n\n   sqft_lot  floors  waterfront  view     ...      grade  sqft_above  \\\n0      5650     1.0           0     0     ...          7        1180   \n1      7242     2.0           0     0     ...          7        2170   \n2     10000     1.0           0     0     ...          6         770   \n3      5000     1.0           0     0     ...          7        1050   \n4      8080     1.0           0     0     ...          8        1680   \n\n   sqft_basement  yr_built  yr_renovated  zipcode      lat     long  \\\n0              0      1955             0    98178  47.5112 -122.257   \n1            400      1951          1991    98125  47.7210 -122.319   \n2              0      1933             0    98028  47.7379 -122.233   \n3            910      1965             0    98136  47.5208 -122.393   \n4              0      1987             0    98074  47.6168 -122.045   \n\n   sqft_living15  sqft_lot15  \n0           1340        5650  \n1           1690        7639  \n2           2720        8062  \n3           1360        5000  \n4           1800        7503  \n\n[5 rows x 21 columns]"
                    }, 
                    "output_type": "execute_result"
                }
            ], 
            "source": "\nbody = client_13fd72fa0ba04f0ba9cdcb0b3fb3b215.get_object(Bucket='predictinghousepriceunivwashinton-donotdelete-pr-pn7yrxnocamtjz',Key='kc_house_train_data.csv')['Body']\n# add missing __iter__ method, so pandas accepts body as file-like object\nif not hasattr(body, \"__iter__\"): body.__iter__ = types.MethodType( __iter__, body )\n\ndf_train = pd.read_csv(body)\ndf_train.head()\n\n"
        }, 
        {
            "execution_count": 6, 
            "cell_type": "code", 
            "metadata": {}, 
            "outputs": [
                {
                    "execution_count": 6, 
                    "metadata": {}, 
                    "data": {
                        "text/plain": "array([[5650],\n       [7639],\n       [8062],\n       [5000],\n       [7503]])"
                    }, 
                    "output_type": "execute_result"
                }
            ], 
            "source": "import numpy as np\nX_train = np.asarray(df_train[['sqft_lot15']])\nX_train[0:5]"
        }, 
        {
            "execution_count": 9, 
            "cell_type": "code", 
            "metadata": {}, 
            "outputs": [
                {
                    "execution_count": 9, 
                    "metadata": {}, 
                    "data": {
                        "text/plain": "array([[ 221900.],\n       [ 538000.],\n       [ 180000.],\n       [ 604000.],\n       [ 510000.]])"
                    }, 
                    "output_type": "execute_result"
                }
            ], 
            "source": "y_train = np.asarray(df_train[['price']])\ny_train[0:5]"
        }, 
        {
            "execution_count": 12, 
            "cell_type": "code", 
            "metadata": {}, 
            "outputs": [
                {
                    "output_type": "stream", 
                    "name": "stdout", 
                    "text": "Coefficient : [[ 1.09926844]]\nIntercept : [ 525321.95569586]\n"
                }
            ], 
            "source": "from sklearn import linear_model\nregr = linear_model.LinearRegression()\nregr.fit(X_train,y_train)\nprint('Coefficient :', regr.coef_)\nprint('Intercept :', regr.intercept_)"
        }, 
        {
            "execution_count": 25, 
            "cell_type": "code", 
            "metadata": {}, 
            "outputs": [
                {
                    "output_type": "display_data", 
                    "data": {
                        "image/png": "[encoded data removed]", 
                        "text/plain": "<matplotlib.figure.Figure at 0x7fd4fa423be0>"
                    }, 
                    "metadata": {}
                }
            ], 
            "source": "import matplotlib.pyplot as plt\nplt.scatter(df_train.sqft_lot15, df_train.price, color = 'blue')\nplt.plot(X_train, regr.coef_[0][0]*X_train + regr.intercept_[0], '-r')\nplt.xlabel(\"Lot Size\")\nplt.ylabel(\"price\")\nplt.show()"
        }, 
        {
            "execution_count": null, 
            "cell_type": "code", 
            "metadata": {}, 
            "outputs": [], 
            "source": "plt.scatter(df_train.sqft_lot15, df_train.price, color = 'blue')\nplt.plot(X_train, regr.coef_[0][0]*X_train + regr.intercept_[0], '-r')\nplt.xlabel(\"Lot Size\")\nplt.ylabel(\"price\")\nplt.show()"
        }, 
        {
            "execution_count": 15, 
            "cell_type": "code", 
            "metadata": {
                "scrolled": true
            }, 
            "outputs": [
                {
                    "execution_count": 15, 
                    "metadata": {}, 
                    "data": {
                        "text/html": "<div>\n<style scoped>\n    .dataframe tbody tr th:only-of-type {\n        vertical-align: middle;\n    }\n\n    .dataframe tbody tr th {\n        vertical-align: top;\n    }\n\n    .dataframe thead th {\n        text-align: right;\n    }\n</style>\n<table border=\"1\" class=\"dataframe\">\n  <thead>\n    <tr style=\"text-align: right;\">\n      <th></th>\n      <th>id</th>\n      <th>date</th>\n      <th>price</th>\n      <th>bedrooms</th>\n      <th>bathrooms</th>\n      <th>sqft_living</th>\n      <th>sqft_lot</th>\n      <th>floors</th>\n      <th>waterfront</th>\n      <th>view</th>\n      <th>...</th>\n      <th>grade</th>\n      <th>sqft_above</th>\n      <th>sqft_basement</th>\n      <th>yr_built</th>\n      <th>yr_renovated</th>\n      <th>zipcode</th>\n      <th>lat</th>\n      <th>long</th>\n      <th>sqft_living15</th>\n      <th>sqft_lot15</th>\n    </tr>\n  </thead>\n  <tbody>\n    <tr>\n      <th>0</th>\n      <td>114101516</td>\n      <td>20140528T000000</td>\n      <td>310000.0</td>\n      <td>3</td>\n      <td>1.0</td>\n      <td>1430</td>\n      <td>19901</td>\n      <td>1.5</td>\n      <td>0</td>\n      <td>0</td>\n      <td>...</td>\n      <td>7</td>\n      <td>1430</td>\n      <td>0</td>\n      <td>1927</td>\n      <td>0</td>\n      <td>98028</td>\n      <td>47.7558</td>\n      <td>-122.229</td>\n      <td>1780</td>\n      <td>12697</td>\n    </tr>\n    <tr>\n      <th>1</th>\n      <td>9297300055</td>\n      <td>20150124T000000</td>\n      <td>650000.0</td>\n      <td>4</td>\n      <td>3.0</td>\n      <td>2950</td>\n      <td>5000</td>\n      <td>2.0</td>\n      <td>0</td>\n      <td>3</td>\n      <td>...</td>\n      <td>9</td>\n      <td>1980</td>\n      <td>970</td>\n      <td>1979</td>\n      <td>0</td>\n      <td>98126</td>\n      <td>47.5714</td>\n      <td>-122.375</td>\n      <td>2140</td>\n      <td>4000</td>\n    </tr>\n    <tr>\n      <th>2</th>\n      <td>1202000200</td>\n      <td>20141103T000000</td>\n      <td>233000.0</td>\n      <td>3</td>\n      <td>2.0</td>\n      <td>1710</td>\n      <td>4697</td>\n      <td>1.5</td>\n      <td>0</td>\n      <td>0</td>\n      <td>...</td>\n      <td>6</td>\n      <td>1710</td>\n      <td>0</td>\n      <td>1941</td>\n      <td>0</td>\n      <td>98002</td>\n      <td>47.3048</td>\n      <td>-122.218</td>\n      <td>1030</td>\n      <td>4705</td>\n    </tr>\n    <tr>\n      <th>3</th>\n      <td>8562750320</td>\n      <td>20141110T000000</td>\n      <td>580500.0</td>\n      <td>3</td>\n      <td>2.5</td>\n      <td>2320</td>\n      <td>3980</td>\n      <td>2.0</td>\n      <td>0</td>\n      <td>0</td>\n      <td>...</td>\n      <td>8</td>\n      <td>2320</td>\n      <td>0</td>\n      <td>2003</td>\n      <td>0</td>\n      <td>98027</td>\n      <td>47.5391</td>\n      <td>-122.070</td>\n      <td>2580</td>\n      <td>3980</td>\n    </tr>\n    <tr>\n      <th>4</th>\n      <td>7589200193</td>\n      <td>20141110T000000</td>\n      <td>535000.0</td>\n      <td>3</td>\n      <td>1.0</td>\n      <td>1090</td>\n      <td>3000</td>\n      <td>1.5</td>\n      <td>0</td>\n      <td>0</td>\n      <td>...</td>\n      <td>8</td>\n      <td>1090</td>\n      <td>0</td>\n      <td>1929</td>\n      <td>0</td>\n      <td>98117</td>\n      <td>47.6889</td>\n      <td>-122.375</td>\n      <td>1570</td>\n      <td>5080</td>\n    </tr>\n  </tbody>\n</table>\n<p>5 rows \u00d7 21 columns</p>\n</div>", 
                        "text/plain": "           id             date     price  bedrooms  bathrooms  sqft_living  \\\n0   114101516  20140528T000000  310000.0         3        1.0         1430   \n1  9297300055  20150124T000000  650000.0         4        3.0         2950   \n2  1202000200  20141103T000000  233000.0         3        2.0         1710   \n3  8562750320  20141110T000000  580500.0         3        2.5         2320   \n4  7589200193  20141110T000000  535000.0         3        1.0         1090   \n\n   sqft_lot  floors  waterfront  view     ...      grade  sqft_above  \\\n0     19901     1.5           0     0     ...          7        1430   \n1      5000     2.0           0     3     ...          9        1980   \n2      4697     1.5           0     0     ...          6        1710   \n3      3980     2.0           0     0     ...          8        2320   \n4      3000     1.5           0     0     ...          8        1090   \n\n   sqft_basement  yr_built  yr_renovated  zipcode      lat     long  \\\n0              0      1927             0    98028  47.7558 -122.229   \n1            970      1979             0    98126  47.5714 -122.375   \n2              0      1941             0    98002  47.3048 -122.218   \n3              0      2003             0    98027  47.5391 -122.070   \n4              0      1929             0    98117  47.6889 -122.375   \n\n   sqft_living15  sqft_lot15  \n0           1780       12697  \n1           2140        4000  \n2           1030        4705  \n3           2580        3980  \n4           1570        5080  \n\n[5 rows x 21 columns]"
                    }, 
                    "output_type": "execute_result"
                }
            ], 
            "source": "\nbody = client_13fd72fa0ba04f0ba9cdcb0b3fb3b215.get_object(Bucket='predictinghousepriceunivwashinton-donotdelete-pr-pn7yrxnocamtjz',Key='kc_house_test_data.csv')['Body']\n# add missing __iter__ method, so pandas accepts body as file-like object\nif not hasattr(body, \"__iter__\"): body.__iter__ = types.MethodType( __iter__, body )\n\ndf_test = pd.read_csv(body)\ndf_test.head()\n\n"
        }, 
        {
            "execution_count": 17, 
            "cell_type": "code", 
            "metadata": {}, 
            "outputs": [
                {
                    "execution_count": 17, 
                    "metadata": {}, 
                    "data": {
                        "text/plain": "array([[12697],\n       [ 4000],\n       [ 4705],\n       [ 3980],\n       [ 5080]])"
                    }, 
                    "output_type": "execute_result"
                }
            ], 
            "source": "X_test = np.asarray(df_test[['sqft_lot15']])\nX_test[0:5]"
        }, 
        {
            "execution_count": 18, 
            "cell_type": "code", 
            "metadata": {}, 
            "outputs": [
                {
                    "execution_count": 18, 
                    "metadata": {}, 
                    "data": {
                        "text/plain": "array([[ 310000.],\n       [ 650000.],\n       [ 233000.],\n       [ 580500.],\n       [ 535000.]])"
                    }, 
                    "output_type": "execute_result"
                }
            ], 
            "source": "y_test = np.asarray(df_test[['price']])\ny_test[0:5]"
        }, 
        {
            "execution_count": 21, 
            "cell_type": "code", 
            "metadata": {
                "scrolled": true
            }, 
            "outputs": [
                {
                    "execution_count": 21, 
                    "metadata": {}, 
                    "data": {
                        "text/plain": "array([[ 539279.36705156],\n       [ 529719.02944736],\n       [ 530494.01369606],\n       [ 529697.04407861],\n       [ 530906.23936027]])"
                    }, 
                    "output_type": "execute_result"
                }
            ], 
            "source": "y_hat = regr.predict(X_test)\ny_hat[0:5]"
        }, 
        {
            "source": "# predicting test data and finding r2_score\n", 
            "cell_type": "markdown", 
            "metadata": {}
        }, 
        {
            "execution_count": 23, 
            "cell_type": "code", 
            "metadata": {}, 
            "outputs": [
                {
                    "output_type": "stream", 
                    "name": "stdout", 
                    "text": "Mean absolute error : 232649.084059\nResidual sum of square (MSE): 126006179284.0\nR2-score:-133.674565056\n"
                }
            ], 
            "source": "from sklearn.metrics import r2_score\nprint(\"Mean absolute error : %s\" % np.mean(np.absolute(y_hat - y_test)))\nprint (\"Residual sum of square (MSE): %s\" % + np.mean((y_hat - y_test)**2))\nprint (\"R2-score:%s\" % + r2_score(y_hat , y_test))"
        }
    ], 
    "metadata": {
        "kernelspec": {
            "display_name": "Python 3.5", 
            "name": "python3", 
            "language": "python"
        }, 
        "language_info": {
            "mimetype": "text/x-python", 
            "nbconvert_exporter": "python", 
            "version": "3.5.5", 
            "name": "python", 
            "file_extension": ".py", 
            "pygments_lexer": "ipython3", 
            "codemirror_mode": {
                "version": 3, 
                "name": "ipython"
            }
        }
    }, 
    "nbformat": 4
}